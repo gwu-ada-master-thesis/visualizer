{
 "cells": [
  {
   "cell_type": "markdown",
   "metadata": {},
   "source": [
    "> ## Package Importment\n",
    "> Importing all necessary packaged beforehand to eliminate repeated import statements."
   ]
  },
  {
   "cell_type": "code",
   "execution_count": 4,
   "metadata": {},
   "outputs": [],
   "source": [
    "import os\n",
    "import pandas as pd\n",
    "import networkx as nx\n",
    "from pyvis.network import Network"
   ]
  },
  {
   "cell_type": "markdown",
   "metadata": {},
   "source": [
    "> ## Global Variables and General Purpose Functions"
   ]
  },
  {
   "cell_type": "code",
   "execution_count": 3,
   "metadata": {},
   "outputs": [],
   "source": [
    "\"\"\"\n",
    "    GLOBAL VARIABLES\n",
    "\"\"\"\n",
    "\n",
    "# paths to the directories\n",
    "INPUT   = \"../input\"\n",
    "OUTPUT  = \"../output\"\n",
    "\n",
    "# set exclude list\n",
    "EXCLUDES = [\".DS_Store\", 'domain_sample.csv']\n",
    "\n",
    "# column names\n",
    "COLUMNS = [\"Source\", \"Target\", \"NodeWeight\", \"EdgeWeight\", \"Protocol\", \"Subdomain\", \"DomainName\", \"Extension\", \"Path\", \"Metadata\"]\n",
    "\n",
    "# metadata column names\n",
    "METACOLUMNS = [\"Domain\", \"IpAddress\", \"Status\", \"Message\", \"Continent\", \"ContinentCode\", \"Country\", \"Region\", \"RegionName\", \"City\", \"Zip\", \"Lat\", \"Lon\", \"Timezone\", \"Isp\", \"As\", \"AsName\", \"Scrapable\"]\n",
    "\n",
    "# default edge weight boundary\n",
    "EDGE_WEIGHT_BOUNDARY = 0\n"
   ]
  },
  {
   "cell_type": "code",
   "execution_count": 15,
   "metadata": {},
   "outputs": [],
   "source": [
    "\"\"\"GENERAL PURPOSE FUNCTIONS\"\"\"\n",
    "\n",
    "def read_urls(path: str) -> pd.DataFrame:\n",
    "\n",
    "    # initiate an empty dataframe to hold all data\n",
    "    df = pd.DataFrame(columns = COLUMNS)\n",
    "\n",
    "    # loop through each folder\n",
    "    for domain in [folder for folder in os.listdir(f\"{INPUT}\") if folder not in EXCLUDES]:\n",
    "        \n",
    "        try:\n",
    "            # read url.json file to dataframe\n",
    "            df_temp = pd.read_json(f\"{path}/{domain}/urls.json\", dtype=\"str\")\n",
    "        except:\n",
    "            continue\n",
    "        \n",
    "        # add additional columns\n",
    "        df_temp[\"NodeWeight\"] = 1\n",
    "        df_temp[\"EdgeWeight\"] = 1\n",
    "\n",
    "        # add source column with folder name\n",
    "        df_temp[\"Source\"] = domain\n",
    "\n",
    "        # remove port number from extension\n",
    "        df_temp.Extension = df_temp.Extension.apply(lambda x: x.split(\":\")[0])\n",
    "\n",
    "        # merge domain_name and extension column into one and save as target column\n",
    "        df_temp[\"Target\"] = df_temp[[\"DomainName\", \"Extension\"]].apply(lambda x: \".\".join(x), axis=1)\n",
    "\n",
    "        # append to the main dataframe\n",
    "        df = pd.concat([df, df_temp])\n",
    "\n",
    "    # remove self links\n",
    "    df = df[df.Source != df.Target]\n",
    "\n",
    "    # sort value in asc order according to Source\n",
    "    df = df.sort_values(by=[\"Source\"])\n",
    "\n",
    "    # correct index order\n",
    "    df = df.reset_index(drop=True)\n",
    "\n",
    "    # store the dataframe into csv\n",
    "    df.to_csv(f\"{OUTPUT}/csv/urls_as_dataframe.csv\")\n",
    "\n",
    "    return df\n",
    "\n",
    "\n",
    "def find_language_count(languages: dict, language: str) -> tuple:\n",
    "    \n",
    "    # initialize counter\n",
    "    counter = 0\n",
    "\n",
    "    for key, value in languages.value_counts().items():\n",
    "        # select all values for that has selected language keyword\n",
    "        if language in key.lower(): \n",
    "            counter += value\n",
    "    \n",
    "    return (language, counter)"
   ]
  },
  {
   "cell_type": "markdown",
   "metadata": {},
   "source": [
    "## Load Url Datas"
   ]
  },
  {
   "cell_type": "code",
   "execution_count": 10,
   "metadata": {},
   "outputs": [
    {
     "data": {
      "text/html": [
       "<div>\n",
       "<style scoped>\n",
       "    .dataframe tbody tr th:only-of-type {\n",
       "        vertical-align: middle;\n",
       "    }\n",
       "\n",
       "    .dataframe tbody tr th {\n",
       "        vertical-align: top;\n",
       "    }\n",
       "\n",
       "    .dataframe thead th {\n",
       "        text-align: right;\n",
       "    }\n",
       "</style>\n",
       "<table border=\"1\" class=\"dataframe\">\n",
       "  <thead>\n",
       "    <tr style=\"text-align: right;\">\n",
       "      <th></th>\n",
       "      <th>Source</th>\n",
       "      <th>Target</th>\n",
       "      <th>NodeWeight</th>\n",
       "      <th>EdgeWeight</th>\n",
       "      <th>Protocol</th>\n",
       "      <th>Subdomain</th>\n",
       "      <th>DomainName</th>\n",
       "      <th>Extension</th>\n",
       "      <th>Path</th>\n",
       "      <th>Metadata</th>\n",
       "    </tr>\n",
       "  </thead>\n",
       "  <tbody>\n",
       "    <tr>\n",
       "      <th>0</th>\n",
       "      <td>000.az</td>\n",
       "      <td>texnar.az</td>\n",
       "      <td>1</td>\n",
       "      <td>1</td>\n",
       "      <td>https</td>\n",
       "      <td>www</td>\n",
       "      <td>texnar</td>\n",
       "      <td>az</td>\n",
       "      <td>/az/muellifler/eysar-ahmedov</td>\n",
       "      <td>{'Context': '\\n\\r\\t\\n2022 yaş\\n\\r\\t\\nIT Manage...</td>\n",
       "    </tr>\n",
       "    <tr>\n",
       "      <th>1</th>\n",
       "      <td>000.az</td>\n",
       "      <td>texnar.az</td>\n",
       "      <td>1</td>\n",
       "      <td>1</td>\n",
       "      <td>https</td>\n",
       "      <td>www</td>\n",
       "      <td>texnar</td>\n",
       "      <td>az</td>\n",
       "      <td>/az/teqler/İT sərgi</td>\n",
       "      <td>{'Context': '\\n\\r\\t\\nqısa məlumat\\n\\r\\t\\nqısa ...</td>\n",
       "    </tr>\n",
       "    <tr>\n",
       "      <th>2</th>\n",
       "      <td>000.az</td>\n",
       "      <td>texnar.az</td>\n",
       "      <td>1</td>\n",
       "      <td>1</td>\n",
       "      <td>https</td>\n",
       "      <td>www</td>\n",
       "      <td>texnar</td>\n",
       "      <td>az</td>\n",
       "      <td>/az/teqler/TV</td>\n",
       "      <td>{'Context': '\\n\\r\\t\\nApple tvOS üçün də cuzi y...</td>\n",
       "    </tr>\n",
       "    <tr>\n",
       "      <th>3</th>\n",
       "      <td>000.az</td>\n",
       "      <td>texnar.az</td>\n",
       "      <td>1</td>\n",
       "      <td>1</td>\n",
       "      <td>https</td>\n",
       "      <td>www</td>\n",
       "      <td>texnar</td>\n",
       "      <td>az</td>\n",
       "      <td>/az/teqler/Apple Pencil</td>\n",
       "      <td>{'Context': '\\n\\r\\t\\nApple iPadOS 14-ü cüzi ye...</td>\n",
       "    </tr>\n",
       "    <tr>\n",
       "      <th>4</th>\n",
       "      <td>000.az</td>\n",
       "      <td>texnar.az</td>\n",
       "      <td>1</td>\n",
       "      <td>1</td>\n",
       "      <td>https</td>\n",
       "      <td>www</td>\n",
       "      <td>texnar</td>\n",
       "      <td>az</td>\n",
       "      <td>/az/teqler/OS</td>\n",
       "      <td>{'Context': '\\n\\r\\t\\nYeni Mac Studio haqqında ...</td>\n",
       "    </tr>\n",
       "  </tbody>\n",
       "</table>\n",
       "</div>"
      ],
      "text/plain": [
       "   Source     Target  NodeWeight  EdgeWeight Protocol Subdomain DomainName  \\\n",
       "0  000.az  texnar.az           1           1    https       www     texnar   \n",
       "1  000.az  texnar.az           1           1    https       www     texnar   \n",
       "2  000.az  texnar.az           1           1    https       www     texnar   \n",
       "3  000.az  texnar.az           1           1    https       www     texnar   \n",
       "4  000.az  texnar.az           1           1    https       www     texnar   \n",
       "\n",
       "  Extension                          Path  \\\n",
       "0        az  /az/muellifler/eysar-ahmedov   \n",
       "1        az           /az/teqler/İT sərgi   \n",
       "2        az                 /az/teqler/TV   \n",
       "3        az       /az/teqler/Apple Pencil   \n",
       "4        az                 /az/teqler/OS   \n",
       "\n",
       "                                            Metadata  \n",
       "0  {'Context': '\\n\\r\\t\\n2022 yaş\\n\\r\\t\\nIT Manage...  \n",
       "1  {'Context': '\\n\\r\\t\\nqısa məlumat\\n\\r\\t\\nqısa ...  \n",
       "2  {'Context': '\\n\\r\\t\\nApple tvOS üçün də cuzi y...  \n",
       "3  {'Context': '\\n\\r\\t\\nApple iPadOS 14-ü cüzi ye...  \n",
       "4  {'Context': '\\n\\r\\t\\nYeni Mac Studio haqqında ...  "
      ]
     },
     "execution_count": 10,
     "metadata": {},
     "output_type": "execute_result"
    }
   ],
   "source": [
    "\n",
    "if os.path.exists(f\"{OUTPUT}/csv/urls_as_dataframe.csv\"):\n",
    "\n",
    "    # read saved csv data\n",
    "    df = pd.read_csv(f\"{OUTPUT}/csv/urls_as_dataframe.csv\", index_col=0)\n",
    "\n",
    "else:\n",
    "    \n",
    "    # gather path to the file\n",
    "    path_to_data = input(\"Path to the data: \")\n",
    "\n",
    "    # generate dataframe from urls\n",
    "    df = read_urls(path_to_data)\n",
    "    \n",
    "# view dataframe\n",
    "df.head()"
   ]
  },
  {
   "cell_type": "markdown",
   "metadata": {},
   "source": [
    "## Analyze Language Data"
   ]
  },
  {
   "cell_type": "code",
   "execution_count": 19,
   "metadata": {},
   "outputs": [
    {
     "data": {
      "text/plain": [
       "0     'az'}\n",
       "1     'az'}\n",
       "2     'az'}\n",
       "3     'az'}\n",
       "4     'az'}\n",
       "Name: Metadata, dtype: object"
      ]
     },
     "execution_count": 19,
     "metadata": {},
     "output_type": "execute_result"
    }
   ],
   "source": [
    "# process metadata to extract languages\n",
    "languages = df.Metadata.apply(lambda x: x.split(\":\")[-1])\n",
    "\n",
    "# view languages\n",
    "languages.head()"
   ]
  },
  {
   "cell_type": "markdown",
   "metadata": {},
   "source": [
    "## VISUALIZATION"
   ]
  },
  {
   "cell_type": "code",
   "execution_count": 15,
   "metadata": {},
   "outputs": [],
   "source": [
    "# calculate edge weights\n",
    "edge_weights = df.groupby([\"Source\", \"Target\"]).EdgeWeight.count()\n",
    "\n",
    "# calculate node weights as incoming links\n",
    "node_weights = df.groupby(\"Target\").NodeWeight.sum()\n",
    "\n",
    "# add fixed weight for other not active nodes\n",
    "for node in df.Source.unique().tolist() + df.Target.unique().tolist():\n",
    "    try:\n",
    "        node_weights[node]\n",
    "    except:\n",
    "        s_temp = pd.Series([1], index=[node])\n",
    "        pd.concat([node_weights, s_temp])\n",
    "\n",
    "# find max of the edge weights\n",
    "edge_weights_max = max(edge_weights.values)\n",
    "\n",
    "# find max of the node weights\n",
    "node_weights_max = max(node_weights.values)"
   ]
  },
  {
   "cell_type": "markdown",
   "metadata": {},
   "source": [
    "## Generate Graph"
   ]
  },
  {
   "cell_type": "code",
   "execution_count": 11,
   "metadata": {},
   "outputs": [],
   "source": [
    "# initialize graph\n",
    "graph = nx.DiGraph()"
   ]
  },
  {
   "cell_type": "code",
   "execution_count": 31,
   "metadata": {},
   "outputs": [],
   "source": [
    "# find average edge weight\n",
    "EDGE_WEIGHT_BOUNDARY = edge_weights.std()\n",
    "\n",
    "included_nodes = {}\n",
    "\n",
    "# add edge\n",
    "for _from, _to in edge_weights.index:\n",
    "    if edge_weights[_from][_to] >= 1:\n",
    "\n",
    "        # add edge\n",
    "        graph.add_edge(_from, _to, weight=round(edge_weights[_from][_to] / edge_weights_max, 2))\n",
    "\n",
    "        # store used nodes\n",
    "        included_nodes[_from], included_nodes[_to] = True, True\n",
    "\n",
    "\n",
    "# loop to add edge and node\n",
    "for node, node_weight in zip(node_weights.index, node_weights.values):\n",
    "    \n",
    "    # add only used selected nodes\n",
    "    if node in included_nodes.keys():\n",
    "\n",
    "        # add node  \n",
    "        graph.add_node(node, title=node.split(\".\")[0])"
   ]
  },
  {
   "cell_type": "markdown",
   "metadata": {},
   "source": [
    "## Apply Page Rank"
   ]
  },
  {
   "cell_type": "code",
   "execution_count": 13,
   "metadata": {},
   "outputs": [],
   "source": [
    "page_rank = nx.pagerank(graph, alpha=0.9)"
   ]
  },
  {
   "cell_type": "code",
   "execution_count": 23,
   "metadata": {},
   "outputs": [
    {
     "name": "stdout",
     "output_type": "stream",
     "text": [
      "{}\n"
     ]
    }
   ],
   "source": [
    "# sort ranked pages from most to least\n",
    "page_rank_desc_sorted = {k: v for k, v in sorted(page_rank.items(), key=lambda x: x[1], reverse=True)}\n",
    "\n",
    "# view top page ranks\n",
    "print(page_rank_desc_sorted)"
   ]
  },
  {
   "cell_type": "markdown",
   "metadata": {},
   "source": [
    "## Visualize with  PyVis"
   ]
  },
  {
   "cell_type": "code",
   "execution_count": 32,
   "metadata": {},
   "outputs": [],
   "source": [
    "# generate network graph visuality\n",
    "nt = Network(\"100%\", \"100%\", directed=True)\n",
    "\n",
    "# populates the nodes and edges data structures\n",
    "nt.from_nx(graph)\n",
    "\n",
    "# save as html\n",
    "nt.show(f\"{OUTPUT}/html/graph_with_boundary_{EDGE_WEIGHT_BOUNDARY}.html\")"
   ]
  }
 ],
 "metadata": {
  "interpreter": {
   "hash": "215e7619583f60583a8b3380c9043f089cf6e3d95118389c13ae48df85856b1b"
  },
  "kernelspec": {
   "display_name": "Python 3 (ipykernel)",
   "language": "python",
   "name": "python3"
  },
  "language_info": {
   "codemirror_mode": {
    "name": "ipython",
    "version": 3
   },
   "file_extension": ".py",
   "mimetype": "text/x-python",
   "name": "python",
   "nbconvert_exporter": "python",
   "pygments_lexer": "ipython3",
   "version": "3.9.10"
  }
 },
 "nbformat": 4,
 "nbformat_minor": 2
}
